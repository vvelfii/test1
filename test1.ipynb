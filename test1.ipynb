{
 "cells": [
  {
   "cell_type": "code",
   "execution_count": 4,
   "id": "d540ad4f",
   "metadata": {},
   "outputs": [],
   "source": [
    "g = lambda x :lambda y : x+y\n",
    "g(2)(3)\n",
    "g = lambda x,y: x+y\n",
    "# g(2)(3)"
   ]
  },
  {
   "cell_type": "code",
   "execution_count": 9,
   "id": "12f42cec",
   "metadata": {},
   "outputs": [
    {
     "name": "stdout",
     "output_type": "stream",
     "text": [
      "['__and__', '__class__', '__class_getitem__', '__contains__', '__delattr__', '__dir__', '__doc__', '__eq__', '__format__', '__ge__', '__getattribute__', '__gt__', '__hash__', '__iand__', '__init__', '__init_subclass__', '__ior__', '__isub__', '__iter__', '__ixor__', '__le__', '__len__', '__lt__', '__ne__', '__new__', '__or__', '__rand__', '__reduce__', '__reduce_ex__', '__repr__', '__ror__', '__rsub__', '__rxor__', '__setattr__', '__sizeof__', '__str__', '__sub__', '__subclasshook__', '__xor__', 'add', 'clear', 'copy', 'difference', 'difference_update', 'discard', 'intersection', 'intersection_update', 'isdisjoint', 'issubset', 'issuperset', 'pop', 'remove', 'symmetric_difference', 'symmetric_difference_update', 'union', 'update']\n"
     ]
    },
    {
     "data": {
      "text/plain": [
       "{1, 2, 5, 6}"
      ]
     },
     "execution_count": 9,
     "metadata": {},
     "output_type": "execute_result"
    }
   ],
   "source": [
    "a = {1, 2, 3, 4}\n",
    "b = {3, 4, 5, 6}\n",
    "# a.difference(b)\n",
    "# a.intersaction(b)\n",
    "# print(dir(a))\n",
    "a.symmetric_difference(b)\n",
    "# a|b - (a&b)"
   ]
  },
  {
   "cell_type": "code",
   "execution_count": 13,
   "id": "2ae5287d",
   "metadata": {},
   "outputs": [
    {
     "data": {
      "text/plain": [
       "['HELLO', 'WORLD']"
      ]
     },
     "execution_count": 13,
     "metadata": {},
     "output_type": "execute_result"
    }
   ],
   "source": [
    "[s.upper()  for s in ['hello', 'world']]"
   ]
  },
  {
   "cell_type": "code",
   "execution_count": 16,
   "id": "eaa7d11f",
   "metadata": {},
   "outputs": [
    {
     "data": {
      "text/plain": [
       "'bark bark ...'"
      ]
     },
     "execution_count": 16,
     "metadata": {},
     "output_type": "execute_result"
    }
   ],
   "source": [
    "class Dog:\n",
    "    def __init__(self):\n",
    "        pass\n",
    "    \n",
    "    def bark(self):\n",
    "        return \"bark bark ...\"\n",
    "d = Dog()\n",
    "d.bark()\n",
    "# Dog.bark(d)"
   ]
  },
  {
   "cell_type": "code",
   "execution_count": 19,
   "id": "971379ad",
   "metadata": {},
   "outputs": [
    {
     "data": {
      "text/plain": [
       "'numpy'"
      ]
     },
     "execution_count": 19,
     "metadata": {},
     "output_type": "execute_result"
    }
   ],
   "source": [
    "lst = ['numpy', 'pandas', 'requests']\n",
    "lst_gen = (s for s in lst)\n",
    "next(lst_gen)\n",
    "\n",
    "lst = ['numpy', 'pandas', 'requests']\n",
    "lst_gen = iter(lst)\n",
    "next(lst_gen)"
   ]
  },
  {
   "cell_type": "code",
   "execution_count": 23,
   "id": "24a09522",
   "metadata": {},
   "outputs": [
    {
     "data": {
      "text/plain": [
       "[3, 4]"
      ]
     },
     "execution_count": 23,
     "metadata": {},
     "output_type": "execute_result"
    }
   ],
   "source": [
    "[i for i in range(5) if i>2]"
   ]
  },
  {
   "cell_type": "code",
   "execution_count": 24,
   "id": "44af1db7",
   "metadata": {},
   "outputs": [
    {
     "name": "stdout",
     "output_type": "stream",
     "text": [
      "Michael\n"
     ]
    }
   ],
   "source": [
    "class Person:\n",
    "    def __init__(self, name):\n",
    "        self.name = name\n",
    "        \n",
    "m = Person('Michael')\n",
    "print(m.name)\n"
   ]
  },
  {
   "cell_type": "code",
   "execution_count": 26,
   "id": "85f4a8bc",
   "metadata": {},
   "outputs": [
    {
     "name": "stdout",
     "output_type": "stream",
     "text": [
      "{'apple': 1, 'banana': 2, 'coconut': 3, 'pear': 4}\n"
     ]
    }
   ],
   "source": [
    "d = {\n",
    "    'apple': 1,\n",
    "    'banana':2,\n",
    "    'coconut':3\n",
    "}\n",
    "d[\"pear\"] = 4\n",
    "d.update({\"pear\":4})\n",
    "print(d)\n"
   ]
  },
  {
   "cell_type": "code",
   "execution_count": 28,
   "id": "a9cfa176",
   "metadata": {},
   "outputs": [
    {
     "data": {
      "text/plain": [
       "[0, 2, 4, 6, 8]"
      ]
     },
     "execution_count": 28,
     "metadata": {},
     "output_type": "execute_result"
    }
   ],
   "source": [
    "[i*2 for i in range(5)]"
   ]
  },
  {
   "cell_type": "code",
   "execution_count": 38,
   "id": "354d0865",
   "metadata": {},
   "outputs": [
    {
     "name": "stdout",
     "output_type": "stream",
     "text": [
      "['Brass: Birimingham', 'Terrafoming Mars', 'Pandemic Legacy: Season 1', 'Gloomhaven']\n"
     ]
    }
   ],
   "source": [
    "boardgames = [\n",
    "    'Pandemic Legacy: Season 1',\n",
    "    'Terrafoming Mars',\n",
    "    'Brass: Birimingham'\n",
    "]\n",
    "\n",
    "# boardgames.reverse()#.append('Gloomhaven')\n",
    "# boardgames.append('Gloomhaven')\n",
    "\n",
    "# boardgames.insert(0,\"Gloomhaven\")\n",
    "# print(boardgames[::-1])\n",
    "\n",
    "boardgames.reverse();boardgames.append(\"Gloomhaven\")\n",
    "print(boardgames)"
   ]
  },
  {
   "cell_type": "code",
   "execution_count": 39,
   "id": "a809da28",
   "metadata": {},
   "outputs": [
    {
     "name": "stdout",
     "output_type": "stream",
     "text": [
      "20 20 30 40"
     ]
    }
   ],
   "source": [
    "x = 10\n",
    "a = lambda y: x+y\n",
    "x = 10\n",
    "b = lambda y: x+y\n",
    "print(a(10), b(10), end=\" \")\n",
    "x = a(10)\n",
    "c = lambda y,x=x: x+y\n",
    "x = b(10)\n",
    "d = lambda y,x=x: x+y\n",
    "print(c(10), d(10), end=\"\")\n"
   ]
  },
  {
   "cell_type": "code",
   "execution_count": 43,
   "id": "98ab2874",
   "metadata": {},
   "outputs": [
    {
     "name": "stdout",
     "output_type": "stream",
     "text": [
      "var=1.0\n",
      "1.0\n",
      "1.0\n"
     ]
    }
   ],
   "source": [
    "我是变量 = 'var='     '1.0'\n",
    "print(我是变量)\n",
    "print(我是变量[-3:])\n",
    "print(\"1.0\")"
   ]
  }
 ],
 "metadata": {
  "kernelspec": {
   "display_name": "Python 3 (ipykernel)",
   "language": "python",
   "name": "python3"
  },
  "language_info": {
   "codemirror_mode": {
    "name": "ipython",
    "version": 3
   },
   "file_extension": ".py",
   "mimetype": "text/x-python",
   "name": "python",
   "nbconvert_exporter": "python",
   "pygments_lexer": "ipython3",
   "version": "3.9.7"
  }
 },
 "nbformat": 4,
 "nbformat_minor": 5
}
