{
 "cells": [
  {
   "cell_type": "code",
   "execution_count": 3,
   "id": "2af1a274",
   "metadata": {},
   "outputs": [
    {
     "name": "stdout",
     "output_type": "stream",
     "text": [
      "Welcome all of you !\n",
      "Enter your message:We Neu.\n",
      "You typed: We Neu.\n",
      "Enter your message:Wei Li\n",
      "You typed: Wei Li\n",
      "Enter your message:\n",
      "Thanks for your attention\n"
     ]
    }
   ],
   "source": [
    "####Just for fun @@@@@@@@@@@@@@@@@\n",
    "\n",
    "import sys\n",
    "\n",
    "print(\"Welcome %s\" % \"all of you !\")\n",
    "\n",
    "has_question = input(\"Enter your message:\")\n",
    "def please_feel_free(msg):\n",
    "    print(\"You typed:\", msg)\n",
    "    \n",
    "while has_question:\n",
    "    please_feel_free(has_question)\n",
    "    has_question = input(\"Enter your message:\")\n",
    "    \n",
    "else:\n",
    "    print(\"Thanks for your attention\")\n",
    "    "
   ]
  },
  {
   "cell_type": "code",
   "execution_count": null,
   "id": "4e315132",
   "metadata": {},
   "outputs": [],
   "source": []
  }
 ],
 "metadata": {
  "kernelspec": {
   "display_name": "Python 3 (ipykernel)",
   "language": "python",
   "name": "python3"
  },
  "language_info": {
   "codemirror_mode": {
    "name": "ipython",
    "version": 3
   },
   "file_extension": ".py",
   "mimetype": "text/x-python",
   "name": "python",
   "nbconvert_exporter": "python",
   "pygments_lexer": "ipython3",
   "version": "3.9.7"
  }
 },
 "nbformat": 4,
 "nbformat_minor": 5
}
